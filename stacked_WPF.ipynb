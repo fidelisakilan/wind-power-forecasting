{
 "cells": [
  {
   "cell_type": "code",
   "execution_count": 2,
   "metadata": {
    "cell_id": "eaed7e94-fe2e-4d16-b37b-a68b1bbaa526",
    "deepnote_cell_height": 207,
    "deepnote_cell_type": "code",
    "deepnote_to_be_reexecuted": false,
    "execution_millis": 21040,
    "execution_start": 1646882082547,
    "source_hash": "4c217a4"
   },
   "outputs": [],
   "source": [
    "import pandas as pd\n",
    "import numpy as np\n",
    "import matplotlib.pyplot as plt\n",
    "from sklearn.preprocessing import MinMaxScaler\n",
    "import tensorflow as tf\n",
    "from datetime import datetime\n",
    "from sklearn.metrics import mean_absolute_error,mean_squared_error,mean_absolute_percentage_error\n"
   ]
  },
  {
   "cell_type": "code",
   "execution_count": 3,
   "metadata": {},
   "outputs": [],
   "source": [
    "# Global Variables\n",
    "target_col = 'WindSpeed 50'\n",
    "train_percent = 0.66\n",
    "n_past = 48\n",
    "n_future = 5\n",
    "n_features = 4"
   ]
  },
  {
   "cell_type": "code",
   "execution_count": 4,
   "metadata": {
    "cell_id": "00002-8d17b8fa-f7cb-480e-9278-bb85ec36a0ee",
    "deepnote_cell_height": 305.3125,
    "deepnote_cell_type": "code",
    "deepnote_to_be_reexecuted": false,
    "execution_millis": 1089,
    "execution_start": 1646882103602,
    "source_hash": "33ad40"
   },
   "outputs": [
    {
     "name": "stdout",
     "output_type": "stream",
     "text": [
      "                     Pressure  WindSpeed 50  WindSpeed 10  Temperature\n",
      "datetime                                                              \n",
      "2016-01-01 05:00:00     98.49          6.54          3.38        18.79\n",
      "2016-01-01 06:00:00     98.57          5.91          3.48        19.26\n",
      "2016-01-01 07:00:00     98.66          5.74          4.70        21.07\n",
      "2016-01-01 08:00:00     98.72          7.67          6.18        22.94\n",
      "2016-01-01 09:00:00     98.72          8.40          6.94        24.27\n"
     ]
    }
   ],
   "source": [
    "# Get data from CSV\n",
    "def custom_date_parser(x): return datetime.strptime(x, \"%Y %m %d %H\")\n",
    "\n",
    "dataset = pd.read_csv('MUP_dataset.csv', header=12, parse_dates=[\n",
    "                      ['YEAR', 'MO', 'DY', 'HR']], date_parser=custom_date_parser, index_col=0)\n",
    "dataset.index.name ='datetime'\n",
    "dataset.columns = ['Pressure', 'WindSpeed 50', 'WindSpeed 10', 'Temperature']\n",
    "print(dataset.head(5))\n"
   ]
  },
  {
   "cell_type": "code",
   "execution_count": 5,
   "metadata": {},
   "outputs": [
    {
     "data": {
      "text/plain": [
       "Pressure        0\n",
       "WindSpeed 50    0\n",
       "WindSpeed 10    0\n",
       "Temperature     0\n",
       "dtype: int64"
      ]
     },
     "execution_count": 5,
     "metadata": {},
     "output_type": "execute_result"
    }
   ],
   "source": [
    "dataset = dataset.replace('?', np.nan)\n",
    "dataset.isnull().sum()\n"
   ]
  },
  {
   "cell_type": "code",
   "execution_count": 6,
   "metadata": {},
   "outputs": [
    {
     "data": {
      "text/plain": [
       "Pressure        0\n",
       "WindSpeed 50    0\n",
       "WindSpeed 10    0\n",
       "Temperature     0\n",
       "dtype: int64"
      ]
     },
     "execution_count": 6,
     "metadata": {},
     "output_type": "execute_result"
    }
   ],
   "source": [
    "def fill_missing(values):\n",
    "    one_day = 60*24\n",
    "    for row in range(dataset.shape[0]):\n",
    "        for col in range(dataset.shape[1]):\n",
    "            if np.isnan(values[row][col]):\n",
    "                values[row, col] = values[row-one_day, col]\n",
    "\n",
    "\n",
    "dataset = dataset.astype('float32')\n",
    "fill_missing(dataset.values)\n",
    "dataset.isnull().sum()\n"
   ]
  },
  {
   "cell_type": "code",
   "execution_count": 7,
   "metadata": {},
   "outputs": [
    {
     "data": {
      "image/png": "[encoded data removed]",
      "text/plain": [
       "<Figure size 864x288 with 1 Axes>"
      ]
     },
     "metadata": {
      "needs_background": "light"
     },
     "output_type": "display_data"
    }
   ],
   "source": [
    "fig, axs = plt.subplots(figsize=(12, 4))\n",
    "dataset.groupby(dataset.index.month)[\n",
    "    'WindSpeed 50'].mean().plot(kind='bar', rot=0, ax=axs)\n",
    "plt.xlabel(\"Hour of the day\")\n",
    "plt.ylabel(target_col)\n",
    "plt.show()\n"
   ]
  },
  {
   "cell_type": "code",
   "execution_count": 8,
   "metadata": {},
   "outputs": [
    {
     "data": {
      "text/plain": [
       "((34721, 4), (17887, 4))"
      ]
     },
     "execution_count": 8,
     "metadata": {},
     "output_type": "execute_result"
    }
   ],
   "source": [
    "# dataset split\n",
    "TRAIN_SPLIT = int(len(dataset)*train_percent)\n",
    "train_df,test_df = dataset[:TRAIN_SPLIT],dataset[TRAIN_SPLIT:]\n",
    "train_df.shape,test_df.shape"
   ]
  },
  {
   "cell_type": "code",
   "execution_count": 9,
   "metadata": {},
   "outputs": [
    {
     "name": "stderr",
     "output_type": "stream",
     "text": [
      "/var/folders/7c/546hxb311rs7g1vpllxz9r500000gn/T/ipykernel_61519/3151536076.py:8: SettingWithCopyWarning: \n",
      "A value is trying to be set on a copy of a slice from a DataFrame.\n",
      "Try using .loc[row_indexer,col_indexer] = value instead\n",
      "\n",
      "See the caveats in the documentation: https://pandas.pydata.org/pandas-docs/stable/user_guide/indexing.html#returning-a-view-versus-a-copy\n",
      "  train[i]=s_s\n",
      "/var/folders/7c/546hxb311rs7g1vpllxz9r500000gn/T/ipykernel_61519/3151536076.py:8: SettingWithCopyWarning: \n",
      "A value is trying to be set on a copy of a slice from a DataFrame.\n",
      "Try using .loc[row_indexer,col_indexer] = value instead\n",
      "\n",
      "See the caveats in the documentation: https://pandas.pydata.org/pandas-docs/stable/user_guide/indexing.html#returning-a-view-versus-a-copy\n",
      "  train[i]=s_s\n",
      "/var/folders/7c/546hxb311rs7g1vpllxz9r500000gn/T/ipykernel_61519/3151536076.py:8: SettingWithCopyWarning: \n",
      "A value is trying to be set on a copy of a slice from a DataFrame.\n",
      "Try using .loc[row_indexer,col_indexer] = value instead\n",
      "\n",
      "See the caveats in the documentation: https://pandas.pydata.org/pandas-docs/stable/user_guide/indexing.html#returning-a-view-versus-a-copy\n",
      "  train[i]=s_s\n",
      "/var/folders/7c/546hxb311rs7g1vpllxz9r500000gn/T/ipykernel_61519/3151536076.py:8: SettingWithCopyWarning: \n",
      "A value is trying to be set on a copy of a slice from a DataFrame.\n",
      "Try using .loc[row_indexer,col_indexer] = value instead\n",
      "\n",
      "See the caveats in the documentation: https://pandas.pydata.org/pandas-docs/stable/user_guide/indexing.html#returning-a-view-versus-a-copy\n",
      "  train[i]=s_s\n",
      "/var/folders/7c/546hxb311rs7g1vpllxz9r500000gn/T/ipykernel_61519/3151536076.py:15: SettingWithCopyWarning: \n",
      "A value is trying to be set on a copy of a slice from a DataFrame.\n",
      "Try using .loc[row_indexer,col_indexer] = value instead\n",
      "\n",
      "See the caveats in the documentation: https://pandas.pydata.org/pandas-docs/stable/user_guide/indexing.html#returning-a-view-versus-a-copy\n",
      "  test[i]=s_s\n",
      "/var/folders/7c/546hxb311rs7g1vpllxz9r500000gn/T/ipykernel_61519/3151536076.py:15: SettingWithCopyWarning: \n",
      "A value is trying to be set on a copy of a slice from a DataFrame.\n",
      "Try using .loc[row_indexer,col_indexer] = value instead\n",
      "\n",
      "See the caveats in the documentation: https://pandas.pydata.org/pandas-docs/stable/user_guide/indexing.html#returning-a-view-versus-a-copy\n",
      "  test[i]=s_s\n",
      "/var/folders/7c/546hxb311rs7g1vpllxz9r500000gn/T/ipykernel_61519/3151536076.py:15: SettingWithCopyWarning: \n",
      "A value is trying to be set on a copy of a slice from a DataFrame.\n",
      "Try using .loc[row_indexer,col_indexer] = value instead\n",
      "\n",
      "See the caveats in the documentation: https://pandas.pydata.org/pandas-docs/stable/user_guide/indexing.html#returning-a-view-versus-a-copy\n",
      "  test[i]=s_s\n",
      "/var/folders/7c/546hxb311rs7g1vpllxz9r500000gn/T/ipykernel_61519/3151536076.py:15: SettingWithCopyWarning: \n",
      "A value is trying to be set on a copy of a slice from a DataFrame.\n",
      "Try using .loc[row_indexer,col_indexer] = value instead\n",
      "\n",
      "See the caveats in the documentation: https://pandas.pydata.org/pandas-docs/stable/user_guide/indexing.html#returning-a-view-versus-a-copy\n",
      "  test[i]=s_s\n"
     ]
    }
   ],
   "source": [
    "train = train_df\n",
    "scalers={}\n",
    "for i in train_df.columns:\n",
    "    scaler = MinMaxScaler(feature_range=(-1,1))\n",
    "    s_s = scaler.fit_transform(train[i].values.reshape(-1,1))\n",
    "    s_s=np.reshape(s_s,len(s_s))\n",
    "    scalers['scaler_'+ i] = scaler\n",
    "    train[i]=s_s\n",
    "test = test_df\n",
    "for i in train_df.columns:\n",
    "    scaler = scalers['scaler_'+i]\n",
    "    s_s = scaler.transform(test[i].values.reshape(-1,1))\n",
    "    s_s=np.reshape(s_s,len(s_s))\n",
    "    scalers['scaler_'+i] = scaler\n",
    "    test[i]=s_s"
   ]
  },
  {
   "cell_type": "code",
   "execution_count": 10,
   "metadata": {},
   "outputs": [
    {
     "name": "stdout",
     "output_type": "stream",
     "text": [
      "                     Pressure  WindSpeed 50  WindSpeed 10  Temperature\n",
      "datetime                                                              \n",
      "2016-01-01 05:00:00  0.506020     -0.423519     -0.619863    -0.770270\n",
      "2016-01-01 06:00:00  0.602402     -0.479222     -0.608447    -0.730574\n",
      "2016-01-01 07:00:00  0.710846     -0.494253     -0.469178    -0.577703\n",
      "2016-01-01 08:00:00  0.783127     -0.323607     -0.300228    -0.419763\n",
      "2016-01-01 09:00:00  0.783127     -0.259063     -0.213470    -0.307432\n",
      "...                       ...           ...           ...          ...\n",
      "2019-12-17 17:00:00  0.072281     -0.283820     -0.396119    -0.268581\n",
      "2019-12-17 18:00:00  0.204811     -0.280283     -0.399543    -0.323480\n",
      "2019-12-17 19:00:00  0.313255     -0.267020     -0.388128    -0.354730\n",
      "2019-12-17 20:00:00  0.373489     -0.240495     -0.358447    -0.375000\n",
      "2019-12-17 21:00:00  0.397591     -0.248453     -0.358447    -0.398649\n",
      "\n",
      "[34721 rows x 4 columns]\n"
     ]
    }
   ],
   "source": [
    "print(train)"
   ]
  },
  {
   "cell_type": "code",
   "execution_count": 87,
   "metadata": {},
   "outputs": [],
   "source": [
    "def split_series(series, n_past, n_future):\n",
    "  #\n",
    "  # n_past ==> no of past observations\n",
    "  #\n",
    "  # n_future ==> no of future observations \n",
    "  #\n",
    "  X, y = list(), list()\n",
    "  for window_start in range(len(series)):\n",
    "    past_end = window_start + n_past\n",
    "    future_end = past_end + n_future\n",
    "    if future_end > len(series):\n",
    "      break\n",
    "    # slicing the past and future parts of the window\n",
    "    past, future = series[window_start:past_end, :], series[past_end:future_end, :]\n",
    "    X.append(past)\n",
    "    y.append(future)\n",
    "  return np.array(X), np.array(y)"
   ]
  },
  {
   "cell_type": "code",
   "execution_count": 88,
   "metadata": {},
   "outputs": [
    {
     "name": "stdout",
     "output_type": "stream",
     "text": [
      "(34669, 48, 4) (34669, 5, 4)\n",
      "(17835, 48, 4) (17835, 5, 4)\n"
     ]
    }
   ],
   "source": [
    "X_train, y_train = split_series(train.values,n_past, n_future)\n",
    "X_train = X_train.reshape((X_train.shape[0], X_train.shape[1],n_features))\n",
    "y_train = y_train.reshape((y_train.shape[0], y_train.shape[1], n_features))\n",
    "X_test, y_test = split_series(test.values,n_past, n_future)\n",
    "X_test = X_test.reshape((X_test.shape[0], X_test.shape[1],n_features))\n",
    "y_test = y_test.reshape((y_test.shape[0], y_test.shape[1], n_features))\n",
    "\n",
    "print(X_train.shape, y_train.shape)\n",
    "print(X_test.shape, y_test.shape)"
   ]
  },
  {
   "cell_type": "code",
   "execution_count": 89,
   "metadata": {},
   "outputs": [
    {
     "name": "stdout",
     "output_type": "stream",
     "text": [
      "Model: \"model_2\"\n",
      "__________________________________________________________________________________________________\n",
      " Layer (type)                   Output Shape         Param #     Connected to                     \n",
      "==================================================================================================\n",
      " input_3 (InputLayer)           [(None, 48, 4)]      0           []                               \n",
      "                                                                                                  \n",
      " lstm_6 (LSTM)                  [(None, 100),        42000       ['input_3[0][0]']                \n",
      "                                 (None, 100),                                                     \n",
      "                                 (None, 100)]                                                     \n",
      "                                                                                                  \n",
      " repeat_vector_2 (RepeatVector)  (None, 5, 100)      0           ['lstm_6[0][0]']                 \n",
      "                                                                                                  \n",
      " lstm_7 (LSTM)                  (None, 5, 100)       80400       ['repeat_vector_2[0][0]',        \n",
      "                                                                  'lstm_6[0][1]',                 \n",
      "                                                                  'lstm_6[0][2]']                 \n",
      "                                                                                                  \n",
      " time_distributed_2 (TimeDistri  (None, 5, 4)        404         ['lstm_7[0][0]']                 \n",
      " buted)                                                                                           \n",
      "                                                                                                  \n",
      "==================================================================================================\n",
      "Total params: 122,804\n",
      "Trainable params: 122,804\n",
      "Non-trainable params: 0\n",
      "__________________________________________________________________________________________________\n"
     ]
    }
   ],
   "source": [
    "# E1D1\n",
    "# n_features ==> no of features at each timestep in the data.\n",
    "#\n",
    "encoder_inputs = tf.keras.layers.Input(shape=(n_past, n_features))\n",
    "encoder_l1 = tf.keras.layers.LSTM(100, return_state=True)\n",
    "encoder_outputs1 = encoder_l1(encoder_inputs)\n",
    "\n",
    "encoder_states1 = encoder_outputs1[1:]\n",
    "\n",
    "#\n",
    "decoder_inputs = tf.keras.layers.RepeatVector(n_future)(encoder_outputs1[0])\n",
    "\n",
    "#\n",
    "decoder_l1 = tf.keras.layers.LSTM(100, return_sequences=True)(decoder_inputs,initial_state = encoder_states1)\n",
    "decoder_outputs1 = tf.keras.layers.TimeDistributed(tf.keras.layers.Dense(n_features))(decoder_l1)\n",
    "\n",
    "#\n",
    "model_e1d1 = tf.keras.models.Model(encoder_inputs,decoder_outputs1)\n",
    "\n",
    "#\n",
    "model_e1d1.summary()"
   ]
  },
  {
   "cell_type": "code",
   "execution_count": 90,
   "metadata": {},
   "outputs": [
    {
     "name": "stdout",
     "output_type": "stream",
     "text": [
      "Model: \"model_3\"\n",
      "__________________________________________________________________________________________________\n",
      " Layer (type)                   Output Shape         Param #     Connected to                     \n",
      "==================================================================================================\n",
      " input_4 (InputLayer)           [(None, 48, 4)]      0           []                               \n",
      "                                                                                                  \n",
      " lstm_8 (LSTM)                  [(None, 48, 100),    42000       ['input_4[0][0]']                \n",
      "                                 (None, 100),                                                     \n",
      "                                 (None, 100)]                                                     \n",
      "                                                                                                  \n",
      " lstm_9 (LSTM)                  [(None, 100),        80400       ['lstm_8[0][0]']                 \n",
      "                                 (None, 100),                                                     \n",
      "                                 (None, 100)]                                                     \n",
      "                                                                                                  \n",
      " repeat_vector_3 (RepeatVector)  (None, 5, 100)      0           ['lstm_9[0][0]']                 \n",
      "                                                                                                  \n",
      " lstm_10 (LSTM)                 (None, 5, 100)       80400       ['repeat_vector_3[0][0]',        \n",
      "                                                                  'lstm_8[0][1]',                 \n",
      "                                                                  'lstm_8[0][2]']                 \n",
      "                                                                                                  \n",
      " lstm_11 (LSTM)                 (None, 5, 100)       80400       ['lstm_10[0][0]',                \n",
      "                                                                  'lstm_9[0][1]',                 \n",
      "                                                                  'lstm_9[0][2]']                 \n",
      "                                                                                                  \n",
      " time_distributed_3 (TimeDistri  (None, 5, 4)        404         ['lstm_11[0][0]']                \n",
      " buted)                                                                                           \n",
      "                                                                                                  \n",
      "==================================================================================================\n",
      "Total params: 283,604\n",
      "Trainable params: 283,604\n",
      "Non-trainable params: 0\n",
      "__________________________________________________________________________________________________\n"
     ]
    }
   ],
   "source": [
    "# E2D2\n",
    "# n_features ==> no of features at each timestep in the data.\n",
    "#\n",
    "encoder_inputs = tf.keras.layers.Input(shape=(n_past, n_features))\n",
    "encoder_l1 = tf.keras.layers.LSTM(100,return_sequences = True, return_state=True)\n",
    "encoder_outputs1 = encoder_l1(encoder_inputs)\n",
    "encoder_states1 = encoder_outputs1[1:]\n",
    "encoder_l2 = tf.keras.layers.LSTM(100, return_state=True)\n",
    "encoder_outputs2 = encoder_l2(encoder_outputs1[0])\n",
    "encoder_states2 = encoder_outputs2[1:]\n",
    "#\n",
    "decoder_inputs = tf.keras.layers.RepeatVector(n_future)(encoder_outputs2[0])\n",
    "#\n",
    "decoder_l1 = tf.keras.layers.LSTM(100, return_sequences=True)(decoder_inputs,initial_state = encoder_states1)\n",
    "decoder_l2 = tf.keras.layers.LSTM(100, return_sequences=True)(decoder_l1,initial_state = encoder_states2)\n",
    "decoder_outputs2 = tf.keras.layers.TimeDistributed(tf.keras.layers.Dense(n_features))(decoder_l2)\n",
    "#\n",
    "model_e2d2 = tf.keras.models.Model(encoder_inputs,decoder_outputs2)\n",
    "#\n",
    "model_e2d2.summary()"
   ]
  },
  {
   "cell_type": "code",
   "execution_count": 91,
   "metadata": {},
   "outputs": [
    {
     "name": "stdout",
     "output_type": "stream",
     "text": [
      "Epoch 1/25\n"
     ]
    },
    {
     "name": "stderr",
     "output_type": "stream",
     "text": [
      "2022-04-19 16:02:30.215720: I tensorflow/core/grappler/optimizers/custom_graph_optimizer_registry.cc:113] Plugin optimizer for device_type GPU is enabled.\n",
      "2022-04-19 16:02:30.451013: I tensorflow/core/grappler/optimizers/custom_graph_optimizer_registry.cc:113] Plugin optimizer for device_type GPU is enabled.\n",
      "2022-04-19 16:02:30.524011: I tensorflow/core/grappler/optimizers/custom_graph_optimizer_registry.cc:113] Plugin optimizer for device_type GPU is enabled.\n",
      "2022-04-19 16:02:30.585335: I tensorflow/core/grappler/optimizers/custom_graph_optimizer_registry.cc:113] Plugin optimizer for device_type GPU is enabled.\n",
      "2022-04-19 16:02:30.651442: I tensorflow/core/grappler/optimizers/custom_graph_optimizer_registry.cc:113] Plugin optimizer for device_type GPU is enabled.\n"
     ]
    },
    {
     "name": "stdout",
     "output_type": "stream",
     "text": [
      "1084/1084 [==============================] - ETA: 0s - loss: 0.0058"
     ]
    },
    {
     "name": "stderr",
     "output_type": "stream",
     "text": [
      "2022-04-19 16:02:50.690039: I tensorflow/core/grappler/optimizers/custom_graph_optimizer_registry.cc:113] Plugin optimizer for device_type GPU is enabled.\n",
      "2022-04-19 16:02:50.761218: I tensorflow/core/grappler/optimizers/custom_graph_optimizer_registry.cc:113] Plugin optimizer for device_type GPU is enabled.\n",
      "2022-04-19 16:02:50.820764: I tensorflow/core/grappler/optimizers/custom_graph_optimizer_registry.cc:113] Plugin optimizer for device_type GPU is enabled.\n"
     ]
    },
    {
     "name": "stdout",
     "output_type": "stream",
     "text": [
      "1084/1084 [==============================] - 27s 23ms/step - loss: 0.0058 - val_loss: 0.0024 - lr: 0.0010\n",
      "Epoch 2/25\n",
      "1084/1084 [==============================] - 25s 23ms/step - loss: 0.0024 - val_loss: 0.0021 - lr: 9.0000e-04\n",
      "Epoch 3/25\n",
      "1084/1084 [==============================] - 25s 23ms/step - loss: 0.0020 - val_loss: 0.0019 - lr: 8.1000e-04\n",
      "Epoch 4/25\n",
      "1084/1084 [==============================] - 25s 23ms/step - loss: 0.0019 - val_loss: 0.0017 - lr: 7.2900e-04\n",
      "Epoch 5/25\n",
      "1084/1084 [==============================] - 25s 23ms/step - loss: 0.0017 - val_loss: 0.0017 - lr: 6.5610e-04\n",
      "Epoch 6/25\n",
      "1084/1084 [==============================] - 25s 23ms/step - loss: 0.0016 - val_loss: 0.0017 - lr: 5.9049e-04\n",
      "Epoch 7/25\n",
      "1084/1084 [==============================] - 25s 23ms/step - loss: 0.0015 - val_loss: 0.0016 - lr: 5.3144e-04\n",
      "Epoch 8/25\n",
      "1084/1084 [==============================] - 25s 23ms/step - loss: 0.0015 - val_loss: 0.0015 - lr: 4.7830e-04\n",
      "Epoch 9/25\n",
      "1084/1084 [==============================] - 25s 23ms/step - loss: 0.0014 - val_loss: 0.0015 - lr: 4.3047e-04\n",
      "Epoch 10/25\n",
      "1084/1084 [==============================] - 25s 23ms/step - loss: 0.0014 - val_loss: 0.0014 - lr: 3.8742e-04\n",
      "Epoch 11/25\n",
      "1084/1084 [==============================] - 25s 23ms/step - loss: 0.0014 - val_loss: 0.0014 - lr: 3.4868e-04\n",
      "Epoch 12/25\n",
      "1084/1084 [==============================] - 25s 23ms/step - loss: 0.0013 - val_loss: 0.0014 - lr: 3.1381e-04\n",
      "Epoch 13/25\n",
      "1084/1084 [==============================] - 25s 23ms/step - loss: 0.0013 - val_loss: 0.0014 - lr: 2.8243e-04\n",
      "Epoch 14/25\n",
      "1084/1084 [==============================] - 25s 23ms/step - loss: 0.0013 - val_loss: 0.0013 - lr: 2.5419e-04\n",
      "Epoch 15/25\n",
      "1084/1084 [==============================] - 25s 23ms/step - loss: 0.0013 - val_loss: 0.0013 - lr: 2.2877e-04\n",
      "Epoch 16/25\n",
      "1084/1084 [==============================] - 25s 23ms/step - loss: 0.0012 - val_loss: 0.0013 - lr: 2.0589e-04\n",
      "Epoch 17/25\n",
      "1084/1084 [==============================] - 25s 23ms/step - loss: 0.0012 - val_loss: 0.0013 - lr: 1.8530e-04\n",
      "Epoch 18/25\n",
      "1084/1084 [==============================] - 25s 23ms/step - loss: 0.0012 - val_loss: 0.0013 - lr: 1.6677e-04\n",
      "Epoch 19/25\n",
      "1084/1084 [==============================] - 25s 23ms/step - loss: 0.0012 - val_loss: 0.0014 - lr: 1.5009e-04\n",
      "Epoch 20/25\n",
      "1084/1084 [==============================] - 25s 23ms/step - loss: 0.0012 - val_loss: 0.0013 - lr: 1.3509e-04\n",
      "Epoch 21/25\n",
      "1084/1084 [==============================] - 25s 23ms/step - loss: 0.0012 - val_loss: 0.0014 - lr: 1.2158e-04\n",
      "Epoch 22/25\n",
      "1084/1084 [==============================] - 25s 23ms/step - loss: 0.0012 - val_loss: 0.0013 - lr: 1.0942e-04\n",
      "Epoch 23/25\n",
      "1084/1084 [==============================] - 25s 23ms/step - loss: 0.0012 - val_loss: 0.0013 - lr: 9.8477e-05\n",
      "Epoch 24/25\n",
      "1084/1084 [==============================] - 25s 23ms/step - loss: 0.0011 - val_loss: 0.0013 - lr: 8.8629e-05\n",
      "Epoch 25/25\n",
      "1084/1084 [==============================] - 25s 23ms/step - loss: 0.0011 - val_loss: 0.0013 - lr: 7.9766e-05\n",
      "Epoch 1/25\n"
     ]
    },
    {
     "name": "stderr",
     "output_type": "stream",
     "text": [
      "2022-04-19 16:13:00.072202: I tensorflow/core/grappler/optimizers/custom_graph_optimizer_registry.cc:113] Plugin optimizer for device_type GPU is enabled.\n",
      "2022-04-19 16:13:00.467490: I tensorflow/core/grappler/optimizers/custom_graph_optimizer_registry.cc:113] Plugin optimizer for device_type GPU is enabled.\n",
      "2022-04-19 16:13:00.554269: I tensorflow/core/grappler/optimizers/custom_graph_optimizer_registry.cc:113] Plugin optimizer for device_type GPU is enabled.\n",
      "2022-04-19 16:13:00.629362: I tensorflow/core/grappler/optimizers/custom_graph_optimizer_registry.cc:113] Plugin optimizer for device_type GPU is enabled.\n",
      "2022-04-19 16:13:00.674227: I tensorflow/core/grappler/optimizers/custom_graph_optimizer_registry.cc:113] Plugin optimizer for device_type GPU is enabled.\n",
      "2022-04-19 16:13:00.737180: I tensorflow/core/grappler/optimizers/custom_graph_optimizer_registry.cc:113] Plugin optimizer for device_type GPU is enabled.\n",
      "2022-04-19 16:13:00.810834: I tensorflow/core/grappler/optimizers/custom_graph_optimizer_registry.cc:113] Plugin optimizer for device_type GPU is enabled.\n",
      "2022-04-19 16:13:00.891487: I tensorflow/core/grappler/optimizers/custom_graph_optimizer_registry.cc:113] Plugin optimizer for device_type GPU is enabled.\n",
      "2022-04-19 16:13:01.004457: I tensorflow/core/grappler/optimizers/custom_graph_optimizer_registry.cc:113] Plugin optimizer for device_type GPU is enabled.\n"
     ]
    },
    {
     "name": "stdout",
     "output_type": "stream",
     "text": [
      "1084/1084 [==============================] - ETA: 0s - loss: 0.0066"
     ]
    },
    {
     "name": "stderr",
     "output_type": "stream",
     "text": [
      "2022-04-19 16:13:33.993334: I tensorflow/core/grappler/optimizers/custom_graph_optimizer_registry.cc:113] Plugin optimizer for device_type GPU is enabled.\n",
      "2022-04-19 16:13:34.121415: I tensorflow/core/grappler/optimizers/custom_graph_optimizer_registry.cc:113] Plugin optimizer for device_type GPU is enabled.\n",
      "2022-04-19 16:13:34.197987: I tensorflow/core/grappler/optimizers/custom_graph_optimizer_registry.cc:113] Plugin optimizer for device_type GPU is enabled.\n",
      "2022-04-19 16:13:34.262827: I tensorflow/core/grappler/optimizers/custom_graph_optimizer_registry.cc:113] Plugin optimizer for device_type GPU is enabled.\n",
      "2022-04-19 16:13:34.295125: I tensorflow/core/grappler/optimizers/custom_graph_optimizer_registry.cc:113] Plugin optimizer for device_type GPU is enabled.\n"
     ]
    },
    {
     "name": "stdout",
     "output_type": "stream",
     "text": [
      "1084/1084 [==============================] - 44s 38ms/step - loss: 0.0066 - val_loss: 0.0029 - lr: 0.0010\n",
      "Epoch 2/25\n",
      "1084/1084 [==============================] - 40s 37ms/step - loss: 0.0026 - val_loss: 0.0022 - lr: 9.0000e-04\n",
      "Epoch 3/25\n",
      "1084/1084 [==============================] - 40s 37ms/step - loss: 0.0021 - val_loss: 0.0020 - lr: 8.1000e-04\n",
      "Epoch 4/25\n",
      "1084/1084 [==============================] - 40s 36ms/step - loss: 0.0018 - val_loss: 0.0018 - lr: 7.2900e-04\n",
      "Epoch 5/25\n",
      "1084/1084 [==============================] - 40s 37ms/step - loss: 0.0017 - val_loss: 0.0016 - lr: 6.5610e-04\n",
      "Epoch 6/25\n",
      "1084/1084 [==============================] - 40s 37ms/step - loss: 0.0016 - val_loss: 0.0016 - lr: 5.9049e-04\n",
      "Epoch 7/25\n",
      "1084/1084 [==============================] - 40s 37ms/step - loss: 0.0015 - val_loss: 0.0016 - lr: 5.3144e-04\n",
      "Epoch 8/25\n",
      "1084/1084 [==============================] - 40s 37ms/step - loss: 0.0014 - val_loss: 0.0015 - lr: 4.7830e-04\n",
      "Epoch 9/25\n",
      "1084/1084 [==============================] - 40s 37ms/step - loss: 0.0014 - val_loss: 0.0015 - lr: 4.3047e-04\n",
      "Epoch 10/25\n",
      "1084/1084 [==============================] - 40s 37ms/step - loss: 0.0013 - val_loss: 0.0015 - lr: 3.8742e-04\n",
      "Epoch 11/25\n",
      "1084/1084 [==============================] - 40s 37ms/step - loss: 0.0013 - val_loss: 0.0014 - lr: 3.4868e-04\n",
      "Epoch 12/25\n",
      "1084/1084 [==============================] - 40s 37ms/step - loss: 0.0013 - val_loss: 0.0014 - lr: 3.1381e-04\n",
      "Epoch 13/25\n",
      "1084/1084 [==============================] - 40s 37ms/step - loss: 0.0012 - val_loss: 0.0014 - lr: 2.8243e-04\n",
      "Epoch 14/25\n",
      "1084/1084 [==============================] - 40s 37ms/step - loss: 0.0012 - val_loss: 0.0014 - lr: 2.5419e-04\n",
      "Epoch 15/25\n",
      "1084/1084 [==============================] - 40s 37ms/step - loss: 0.0012 - val_loss: 0.0014 - lr: 2.2877e-04\n",
      "Epoch 16/25\n",
      "1084/1084 [==============================] - 40s 37ms/step - loss: 0.0012 - val_loss: 0.0014 - lr: 2.0589e-04\n",
      "Epoch 17/25\n",
      "1084/1084 [==============================] - 40s 37ms/step - loss: 0.0011 - val_loss: 0.0014 - lr: 1.8530e-04\n",
      "Epoch 18/25\n",
      "1084/1084 [==============================] - 40s 37ms/step - loss: 0.0011 - val_loss: 0.0014 - lr: 1.6677e-04\n",
      "Epoch 19/25\n",
      "1084/1084 [==============================] - 40s 37ms/step - loss: 0.0011 - val_loss: 0.0014 - lr: 1.5009e-04\n",
      "Epoch 20/25\n",
      "1084/1084 [==============================] - 41s 38ms/step - loss: 0.0011 - val_loss: 0.0014 - lr: 1.3509e-04\n",
      "Epoch 21/25\n",
      "1084/1084 [==============================] - 40s 37ms/step - loss: 0.0011 - val_loss: 0.0014 - lr: 1.2158e-04\n",
      "Epoch 22/25\n",
      "1084/1084 [==============================] - 40s 37ms/step - loss: 0.0011 - val_loss: 0.0014 - lr: 1.0942e-04\n",
      "Epoch 23/25\n",
      "1084/1084 [==============================] - 40s 37ms/step - loss: 0.0010 - val_loss: 0.0014 - lr: 9.8477e-05\n",
      "Epoch 24/25\n",
      "1084/1084 [==============================] - 40s 37ms/step - loss: 0.0010 - val_loss: 0.0014 - lr: 8.8629e-05\n",
      "Epoch 25/25\n",
      "1084/1084 [==============================] - 41s 38ms/step - loss: 0.0010 - val_loss: 0.0014 - lr: 7.9766e-05\n"
     ]
    }
   ],
   "source": [
    "reduce_lr = tf.keras.callbacks.LearningRateScheduler(lambda x: 1e-3 * 0.90 ** x)\n",
    "\n",
    "model_e1d1.compile(optimizer=tf.keras.optimizers.Adam(), loss=tf.keras.losses.Huber())\n",
    "history_e1d1=model_e1d1.fit(X_train,y_train,epochs=25,validation_data=(X_test,y_test),batch_size=32,verbose=1,callbacks=[reduce_lr])\n",
    "\n",
    "model_e2d2.compile(optimizer=tf.keras.optimizers.Adam(), loss=tf.keras.losses.Huber())\n",
    "history_e2d2=model_e2d2.fit(X_train,y_train,epochs=25,validation_data=(X_test,y_test),batch_size=32,verbose=1,callbacks=[reduce_lr])"
   ]
  },
  {
   "cell_type": "code",
   "execution_count": 92,
   "metadata": {},
   "outputs": [
    {
     "data": {
      "image/png": "[encoded data removed]",
      "text/plain": [
       "<Figure size 432x288 with 1 Axes>"
      ]
     },
     "metadata": {
      "needs_background": "light"
     },
     "output_type": "display_data"
    }
   ],
   "source": [
    "plt.plot(history_e1d1.history['loss'])\n",
    "plt.plot(history_e1d1.history['val_loss'])\n",
    "plt.title(\"E1D1 Model Loss\")\n",
    "plt.xlabel('Epochs')\n",
    "plt.ylabel('Loss')\n",
    "plt.legend(['Train', 'Valid'])\n",
    "plt.show()"
   ]
  },
  {
   "cell_type": "code",
   "execution_count": 93,
   "metadata": {},
   "outputs": [
    {
     "data": {
      "image/png": "[encoded data removed]",
      "text/plain": [
       "<Figure size 432x288 with 1 Axes>"
      ]
     },
     "metadata": {
      "needs_background": "light"
     },
     "output_type": "display_data"
    }
   ],
   "source": [
    "plt.plot(history_e2d2.history['loss'])\n",
    "plt.plot(history_e2d2.history['val_loss'])\n",
    "plt.title(\"E2D2 Model Loss\")\n",
    "plt.xlabel('Epochs')\n",
    "plt.ylabel('Loss')\n",
    "plt.legend(['Train', 'Valid'])\n",
    "plt.show()"
   ]
  },
  {
   "cell_type": "code",
   "execution_count": 94,
   "metadata": {},
   "outputs": [
    {
     "name": "stderr",
     "output_type": "stream",
     "text": [
      "2022-04-19 16:29:45.033743: I tensorflow/core/grappler/optimizers/custom_graph_optimizer_registry.cc:113] Plugin optimizer for device_type GPU is enabled.\n",
      "2022-04-19 16:29:45.096737: I tensorflow/core/grappler/optimizers/custom_graph_optimizer_registry.cc:113] Plugin optimizer for device_type GPU is enabled.\n",
      "2022-04-19 16:29:45.210197: I tensorflow/core/grappler/optimizers/custom_graph_optimizer_registry.cc:113] Plugin optimizer for device_type GPU is enabled.\n",
      "2022-04-19 16:29:50.493251: I tensorflow/core/grappler/optimizers/custom_graph_optimizer_registry.cc:113] Plugin optimizer for device_type GPU is enabled.\n",
      "2022-04-19 16:29:50.611925: I tensorflow/core/grappler/optimizers/custom_graph_optimizer_registry.cc:113] Plugin optimizer for device_type GPU is enabled.\n",
      "2022-04-19 16:29:50.681054: I tensorflow/core/grappler/optimizers/custom_graph_optimizer_registry.cc:113] Plugin optimizer for device_type GPU is enabled.\n",
      "2022-04-19 16:29:50.760729: I tensorflow/core/grappler/optimizers/custom_graph_optimizer_registry.cc:113] Plugin optimizer for device_type GPU is enabled.\n",
      "2022-04-19 16:29:50.795909: I tensorflow/core/grappler/optimizers/custom_graph_optimizer_registry.cc:113] Plugin optimizer for device_type GPU is enabled.\n"
     ]
    }
   ],
   "source": [
    "pred1_e1d1=model_e1d1.predict(X_test)\n",
    "pred1_e2d2=model_e2d2.predict(X_test)\n",
    "\n",
    "pred_e1d1=model_e1d1.predict(X_train)\n",
    "pred_e2d2=model_e2d2.predict(X_train)"
   ]
  },
  {
   "cell_type": "code",
   "execution_count": 95,
   "metadata": {},
   "outputs": [],
   "source": [
    "for index,i in enumerate(train_df.columns):\n",
    "    scaler = scalers['scaler_'+i]\n",
    "    pred1_e1d1[:,:,index]=scaler.inverse_transform(pred1_e1d1[:,:,index])\n",
    "    pred_e1d1[:,:,index]=scaler.inverse_transform(pred_e1d1[:,:,index])\n",
    "    \n",
    "    pred1_e2d2[:,:,index]=scaler.inverse_transform(pred1_e2d2[:,:,index])\n",
    "    pred_e2d2[:,:,index]=scaler.inverse_transform(pred_e2d2[:,:,index])\n",
    "    \n",
    "    y_train[:,:,index]=scaler.inverse_transform(y_train[:,:,index])\n",
    "    y_test[:,:,index]=scaler.inverse_transform(y_test[:,:,index])"
   ]
  },
  {
   "cell_type": "code",
   "execution_count": null,
   "metadata": {},
   "outputs": [],
   "source": [
    "\n",
    "index = 1\n",
    "print(train_df.columns[index])\n",
    "for j in range(1,6):\n",
    "  print(\"Hour \",j,\":\")\n",
    "  print(\"MAE-E1D1 : \",np.sqrt(mean_squared_error(y_test[:,j-1,index],pred1_e1d1[:,j-1,index])),end=\", \")\n",
    "  print(\"MAE-E2D2 : \",np.sqrt(mean_squared_error(y_test[:,j-1,index],pred1_e2d2[:,j-1,index])))"
   ]
  }
 ],
 "metadata": {
  "deepnote": {},
  "deepnote_execution_queue": [],
  "deepnote_notebook_id": "88a99376-a207-4737-960a-d921204c4164",
  "interpreter": {
   "hash": "4bd624a0593993fe43ac4046b27b898fb2ef75c21c08f81e89e64ea0f51df676"
  },
  "kernelspec": {
   "display_name": "Python 3.9.12 ('tensorflow')",
   "language": "python",
   "name": "python3"
  },
  "language_info": {
   "codemirror_mode": {
    "name": "ipython",
    "version": 3
   },
   "file_extension": ".py",
   "mimetype": "text/x-python",
   "name": "python",
   "nbconvert_exporter": "python",
   "pygments_lexer": "ipython3",
   "version": "3.9.12"
  },
  "orig_nbformat": 4
 },
 "nbformat": 4,
 "nbformat_minor": 2
}
