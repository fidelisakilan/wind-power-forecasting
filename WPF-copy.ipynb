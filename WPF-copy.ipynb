{
 "cells": [
  {
   "cell_type": "code",
   "execution_count": 25,
   "metadata": {
    "cell_id": "eaed7e94-fe2e-4d16-b37b-a68b1bbaa526",
    "deepnote_cell_height": 207,
    "deepnote_cell_type": "code",
    "deepnote_to_be_reexecuted": false,
    "execution_millis": 21040,
    "execution_start": 1646882082547,
    "source_hash": "4c217a4"
   },
   "outputs": [],
   "source": [
    "import pandas as pd\n",
    "import numpy as np\n",
    "import matplotlib.pyplot as plt\n",
    "from sklearn.preprocessing import MinMaxScaler\n",
    "import tensorflow as tf\n",
    "from datetime import datetime\n",
    "from sklearn.metrics import mean_absolute_error,mean_squared_error"
   ]
  },
  {
   "cell_type": "code",
   "execution_count": 26,
   "metadata": {},
   "outputs": [],
   "source": [
    "# Global Variables\n",
    "target_col = 'WindSpeed 50'\n",
    "train_percent = 0.75\n",
    "n_past = 100\n",
    "n_future = 24\n",
    "n_features = 4"
   ]
  },
  {
   "cell_type": "code",
   "execution_count": 27,
   "metadata": {
    "cell_id": "00002-8d17b8fa-f7cb-480e-9278-bb85ec36a0ee",
    "deepnote_cell_height": 305.3125,
    "deepnote_cell_type": "code",
    "deepnote_to_be_reexecuted": false,
    "execution_millis": 1089,
    "execution_start": 1646882103602,
    "source_hash": "33ad40"
   },
   "outputs": [
    {
     "name": "stdout",
     "output_type": "stream",
     "text": [
      "                     Pressure  WindSpeed 50  WindSpeed 10  Temperature\n",
      "datetime                                                              \n",
      "2016-01-01 05:00:00     98.49          6.54          3.38        18.79\n",
      "2016-01-01 06:00:00     98.57          5.91          3.48        19.26\n",
      "2016-01-01 07:00:00     98.66          5.74          4.70        21.07\n",
      "2016-01-01 08:00:00     98.72          7.67          6.18        22.94\n",
      "2016-01-01 09:00:00     98.72          8.40          6.94        24.27\n"
     ]
    }
   ],
   "source": [
    "# Get data from CSV\n",
    "def custom_date_parser(x): return datetime.strptime(x, \"%Y %m %d %H\")\n",
    "\n",
    "dataset = pd.read_csv('MUP_dataset.csv', header=12, parse_dates=[\n",
    "                      ['YEAR', 'MO', 'DY', 'HR']], date_parser=custom_date_parser, index_col=0)\n",
    "dataset.index.name ='datetime'\n",
    "dataset.columns = ['Pressure', 'WindSpeed 50', 'WindSpeed 10', 'Temperature']\n",
    "print(dataset.head(5))\n"
   ]
  },
  {
   "cell_type": "code",
   "execution_count": 28,
   "metadata": {},
   "outputs": [
    {
     "data": {
      "text/plain": [
       "Pressure        0\n",
       "WindSpeed 50    0\n",
       "WindSpeed 10    0\n",
       "Temperature     0\n",
       "dtype: int64"
      ]
     },
     "execution_count": 28,
     "metadata": {},
     "output_type": "execute_result"
    }
   ],
   "source": [
    "dataset = dataset.replace('?', np.nan)\n",
    "dataset.isnull().sum()\n"
   ]
  },
  {
   "cell_type": "code",
   "execution_count": 29,
   "metadata": {},
   "outputs": [
    {
     "data": {
      "text/plain": [
       "Pressure        0\n",
       "WindSpeed 50    0\n",
       "WindSpeed 10    0\n",
       "Temperature     0\n",
       "dtype: int64"
      ]
     },
     "execution_count": 29,
     "metadata": {},
     "output_type": "execute_result"
    }
   ],
   "source": [
    "def fill_missing(values):\n",
    "    one_day = 60*24\n",
    "    for row in range(dataset.shape[0]):\n",
    "        for col in range(dataset.shape[1]):\n",
    "            if np.isnan(values[row][col]):\n",
    "                values[row, col] = values[row-one_day, col]\n",
    "\n",
    "\n",
    "dataset = dataset.astype('float32')\n",
    "fill_missing(dataset.values)\n",
    "dataset.isnull().sum()"
   ]
  },
  {
   "cell_type": "code",
   "execution_count": 30,
   "metadata": {},
   "outputs": [
    {
     "data": {
      "image/png": "[encoded data removed]",
      "text/plain": [
       "<Figure size 864x288 with 1 Axes>"
      ]
     },
     "metadata": {
      "needs_background": "light"
     },
     "output_type": "display_data"
    }
   ],
   "source": [
    "fig, axs = plt.subplots(figsize=(12, 4))\n",
    "dataset.groupby(dataset.index.month)[\n",
    "    'WindSpeed 50'].mean().plot(kind='bar', rot=0, ax=axs)\n",
    "plt.xlabel(\"Hour of the day\")\n",
    "plt.ylabel(target_col)\n",
    "plt.show()"
   ]
  },
  {
   "cell_type": "code",
   "execution_count": 31,
   "metadata": {},
   "outputs": [],
   "source": [
    "# To evaluation losses\n",
    "def evalution_losses(y_true, y_pred):\n",
    "    print('Evaluation metric results:-')\n",
    "    print(f'MSE is : {mean_squared_error(y_true, y_pred)}')\n",
    "    print(f'MAE is : {mean_absolute_error(y_true, y_pred)}')\n",
    "    print(f'RMSE is : {np.sqrt(mean_squared_error(y_true, y_pred))}')"
   ]
  },
  {
   "cell_type": "code",
   "execution_count": 32,
   "metadata": {},
   "outputs": [],
   "source": [
    "# pass model history here \n",
    "def plotModelLoss(model_history):\n",
    "    plt.plot(model_history.history['loss'])\n",
    "    plt.plot(model_history.history['val_loss'])\n",
    "    plt.title(\"E1D1 Model Loss\")\n",
    "    plt.xlabel('Epochs')\n",
    "    plt.ylabel('Loss')\n",
    "    plt.legend(['Train', 'Valid'])\n",
    "    plt.show()"
   ]
  },
  {
   "cell_type": "code",
   "execution_count": 33,
   "metadata": {},
   "outputs": [],
   "source": [
    "def processData(dataset,target,start,end,window,horizon):\n",
    "    X = []\n",
    "    y = []\n",
    "    start = start+window\n",
    "    if end is None:\n",
    "        end = len(dataset) - horizon\n",
    "    for i in range(start,end):\n",
    "        indicex = range(i-window,i)\n",
    "        X.append(dataset[indicex])\n",
    "        indicey = range(i+1, i+1+horizon)\n",
    "        y.append(target[indicey])\n",
    "    return np.array(X), np.array(y)"
   ]
  },
  {
   "cell_type": "code",
   "execution_count": 34,
   "metadata": {},
   "outputs": [
    {
     "data": {
      "text/plain": [
       "((52608, 4), (52608, 1))"
      ]
     },
     "execution_count": 34,
     "metadata": {},
     "output_type": "execute_result"
    }
   ],
   "source": [
    "X_scaler = MinMaxScaler(feature_range=(-1,1))\n",
    "Y_scaler = MinMaxScaler(feature_range=(-1,1))\n",
    "X_data = X_scaler.fit_transform(dataset[['Pressure','WindSpeed 50','WindSpeed 10','Temperature']])\n",
    "Y_data = Y_scaler.fit_transform(dataset[[target_col]])\n",
    "X_data.shape,Y_data.shape"
   ]
  },
  {
   "cell_type": "code",
   "execution_count": 35,
   "metadata": {},
   "outputs": [],
   "source": [
    "TRAIN_SPLIT = int(len(X_data)*0.75)\n",
    "x_train, y_train = processData(X_data, Y_data, 0, TRAIN_SPLIT, n_past, n_future)\n",
    "x_test, y_test = processData(X_data, Y_data, TRAIN_SPLIT, None, n_past, n_future)"
   ]
  },
  {
   "cell_type": "code",
   "execution_count": 36,
   "metadata": {},
   "outputs": [],
   "source": [
    "def lstm():\n",
    "    lstm_model = tf.keras.models.Sequential(\n",
    "        [   \n",
    "            tf.keras.layers.LSTM(200,input_shape =x_train.shape[-2:]),\n",
    "            tf.keras.layers.Dense(48, activation=\"sigmoid\"),\n",
    "            tf.keras.layers.Dense(48, activation=\"tanh\"),\n",
    "            tf.keras.layers.Dense(24, activation=\"sigmoid\"),\n",
    "            tf.keras.layers.Dropout(0.25),\n",
    "            tf.keras.layers.Dense(units=n_future),\n",
    "        ],\n",
    "    )\n",
    "    lstm_model.compile(optimizer=tf.keras.optimizers.Adam(), loss=tf.keras.losses.Huber())\n",
    "    lstm_model.summary()\n",
    "    return lstm_model\n",
    "\n"
   ]
  },
  {
   "cell_type": "code",
   "execution_count": 37,
   "metadata": {},
   "outputs": [],
   "source": [
    "def mlp():\n",
    "    mlp_model = tf.keras.models.Sequential([\n",
    "        tf.keras.layers.Dense(200,input_shape =x_train.shape[-2:]),\n",
    "        tf.keras.layers.Flatten(),\n",
    "        tf.keras.layers.Dense(100, activation=\"tanh\"),\n",
    "        tf.keras.layers.Dense(72, activation=\"tanh\"),\n",
    "        tf.keras.layers.Dense(36, activation=\"tanh\"),\n",
    "        tf.keras.layers.Dense(36, activation=\"tanh\"),\n",
    "        tf.keras.layers.Dense(36, activation=\"tanh\"),\n",
    "        tf.keras.layers.Dense(24, activation=\"tanh\"),\n",
    "        tf.keras.layers.Dense(units=n_future),\n",
    "    ])\n",
    "    mlp_model.compile(optimizer=\"adam\", loss=\"mse\")\n",
    "    mlp_model.summary()\n",
    "    return mlp_model"
   ]
  },
  {
   "cell_type": "code",
   "execution_count": 38,
   "metadata": {},
   "outputs": [
    {
     "name": "stdout",
     "output_type": "stream",
     "text": [
      "Metal device set to: Apple M1\n",
      "\n",
      "systemMemory: 8.00 GB\n",
      "maxCacheSize: 2.67 GB\n",
      "\n"
     ]
    },
    {
     "name": "stderr",
     "output_type": "stream",
     "text": [
      "2022-04-19 17:56:15.965440: I tensorflow/core/common_runtime/pluggable_device/pluggable_device_factory.cc:305] Could not identify NUMA node of platform GPU ID 0, defaulting to 0. Your kernel may not have been built with NUMA support.\n",
      "2022-04-19 17:56:15.966191: I tensorflow/core/common_runtime/pluggable_device/pluggable_device_factory.cc:271] Created TensorFlow device (/job:localhost/replica:0/task:0/device:GPU:0 with 0 MB memory) -> physical PluggableDevice (device: 0, name: METAL, pci bus id: <undefined>)\n"
     ]
    },
    {
     "name": "stdout",
     "output_type": "stream",
     "text": [
      "Model: \"sequential\"\n",
      "_________________________________________________________________\n",
      " Layer (type)                Output Shape              Param #   \n",
      "=================================================================\n",
      " lstm (LSTM)                 (None, 200)               164000    \n",
      "                                                                 \n",
      " dense (Dense)               (None, 48)                9648      \n",
      "                                                                 \n",
      " dense_1 (Dense)             (None, 48)                2352      \n",
      "                                                                 \n",
      " dense_2 (Dense)             (None, 24)                1176      \n",
      "                                                                 \n",
      " dropout (Dropout)           (None, 24)                0         \n",
      "                                                                 \n",
      " dense_3 (Dense)             (None, 24)                600       \n",
      "                                                                 \n",
      "=================================================================\n",
      "Total params: 177,776\n",
      "Trainable params: 177,776\n",
      "Non-trainable params: 0\n",
      "_________________________________________________________________\n",
      "Epoch 1/25\n"
     ]
    },
    {
     "name": "stderr",
     "output_type": "stream",
     "text": [
      "2022-04-19 17:56:17.134053: W tensorflow/core/platform/profile_utils/cpu_utils.cc:128] Failed to get CPU frequency: 0 Hz\n",
      "2022-04-19 17:56:17.840100: I tensorflow/core/grappler/optimizers/custom_graph_optimizer_registry.cc:113] Plugin optimizer for device_type GPU is enabled.\n",
      "2022-04-19 17:56:17.999928: I tensorflow/core/grappler/optimizers/custom_graph_optimizer_registry.cc:113] Plugin optimizer for device_type GPU is enabled.\n",
      "2022-04-19 17:56:20.805098: I tensorflow/core/grappler/optimizers/custom_graph_optimizer_registry.cc:113] Plugin optimizer for device_type GPU is enabled.\n"
     ]
    },
    {
     "name": "stdout",
     "output_type": "stream",
     "text": [
      "1230/1230 [==============================] - ETA: 0s - loss: 0.0330"
     ]
    },
    {
     "name": "stderr",
     "output_type": "stream",
     "text": [
      "2022-04-19 17:56:51.784017: I tensorflow/core/grappler/optimizers/custom_graph_optimizer_registry.cc:113] Plugin optimizer for device_type GPU is enabled.\n",
      "2022-04-19 17:56:51.830657: I tensorflow/core/grappler/optimizers/custom_graph_optimizer_registry.cc:113] Plugin optimizer for device_type GPU is enabled.\n"
     ]
    },
    {
     "name": "stdout",
     "output_type": "stream",
     "text": [
      "1230/1230 [==============================] - 40s 29ms/step - loss: 0.0330 - val_loss: 0.0118\n",
      "Epoch 2/25\n",
      "1230/1230 [==============================] - 35s 28ms/step - loss: 0.0106 - val_loss: 0.0086\n",
      "Epoch 3/25\n",
      "1230/1230 [==============================] - 36s 29ms/step - loss: 0.0093 - val_loss: 0.0076\n",
      "Epoch 4/25\n",
      "1230/1230 [==============================] - 37s 30ms/step - loss: 0.0081 - val_loss: 0.0066\n",
      "Epoch 5/25\n",
      "1230/1230 [==============================] - 35s 29ms/step - loss: 0.0071 - val_loss: 0.0069\n",
      "Epoch 6/25\n",
      "1230/1230 [==============================] - 40s 33ms/step - loss: 0.0066 - val_loss: 0.0064\n",
      "Epoch 7/25\n",
      "1230/1230 [==============================] - 36s 30ms/step - loss: 0.0064 - val_loss: 0.0064\n",
      "Epoch 8/25\n",
      "1230/1230 [==============================] - 38s 31ms/step - loss: 0.0062 - val_loss: 0.0062\n",
      "Epoch 9/25\n",
      "1230/1230 [==============================] - 43s 35ms/step - loss: 0.0059 - val_loss: 0.0065\n",
      "Epoch 10/25\n",
      "1230/1230 [==============================] - 37s 30ms/step - loss: 0.0057 - val_loss: 0.0071\n",
      "Epoch 11/25\n",
      "1230/1230 [==============================] - 38s 31ms/step - loss: 0.0055 - val_loss: 0.0067\n",
      "Epoch 12/25\n",
      "1230/1230 [==============================] - 38s 31ms/step - loss: 0.0052 - val_loss: 0.0069\n",
      "Epoch 13/25\n",
      "1230/1230 [==============================] - 38s 31ms/step - loss: 0.0049 - val_loss: 0.0069\n",
      "Epoch 14/25\n",
      "1230/1230 [==============================] - 38s 31ms/step - loss: 0.0047 - val_loss: 0.0071\n",
      "Epoch 15/25\n",
      "1230/1230 [==============================] - 38s 31ms/step - loss: 0.0044 - val_loss: 0.0074\n",
      "Epoch 16/25\n",
      "1230/1230 [==============================] - 39s 31ms/step - loss: 0.0040 - val_loss: 0.0081\n",
      "Epoch 17/25\n",
      "1230/1230 [==============================] - 40s 32ms/step - loss: 0.0038 - val_loss: 0.0077\n",
      "Epoch 18/25\n",
      "1230/1230 [==============================] - 38s 31ms/step - loss: 0.0036 - val_loss: 0.0079\n",
      "Epoch 19/25\n",
      "1230/1230 [==============================] - 40s 33ms/step - loss: 0.0033 - val_loss: 0.0082\n",
      "Epoch 20/25\n",
      "1230/1230 [==============================] - 39s 31ms/step - loss: 0.0032 - val_loss: 0.0080\n",
      "Epoch 21/25\n",
      "1230/1230 [==============================] - 39s 32ms/step - loss: 0.0030 - val_loss: 0.0083\n",
      "Epoch 22/25\n",
      "1230/1230 [==============================] - 40s 32ms/step - loss: 0.0030 - val_loss: 0.0083\n",
      "Epoch 23/25\n",
      "1230/1230 [==============================] - 40s 32ms/step - loss: 0.0028 - val_loss: 0.0084\n",
      "Epoch 24/25\n",
      "1230/1230 [==============================] - 40s 32ms/step - loss: 0.0027 - val_loss: 0.0084\n",
      "Epoch 25/25\n",
      "1230/1230 [==============================] - 39s 32ms/step - loss: 0.0026 - val_loss: 0.0086\n"
     ]
    },
    {
     "name": "stderr",
     "output_type": "stream",
     "text": [
      "2022-04-19 18:12:17.944077: W tensorflow/python/util/util.cc:368] Sets are not currently considered sequences, but this may change in the future, so consider avoiding using them.\n",
      "WARNING:absl:Found untraced functions such as lstm_cell_layer_call_fn, lstm_cell_layer_call_and_return_conditional_losses while saving (showing 2 of 2). These functions will not be directly callable after loading.\n"
     ]
    },
    {
     "name": "stdout",
     "output_type": "stream",
     "text": [
      "INFO:tensorflow:Assets written to: lstm_model/assets\n"
     ]
    },
    {
     "name": "stderr",
     "output_type": "stream",
     "text": [
      "INFO:tensorflow:Assets written to: lstm_model/assets\n",
      "WARNING:absl:<keras.layers.recurrent.LSTMCell object at 0x164e35f10> has the same name 'LSTMCell' as a built-in Keras object. Consider renaming <class 'keras.layers.recurrent.LSTMCell'> to avoid naming conflicts when loading with `tf.keras.models.load_model`. If renaming is not possible, pass the object in the `custom_objects` parameter of the load function.\n",
      "2022-04-19 18:12:21.411430: I tensorflow/core/grappler/optimizers/custom_graph_optimizer_registry.cc:113] Plugin optimizer for device_type GPU is enabled.\n",
      "2022-04-19 18:12:21.488372: I tensorflow/core/grappler/optimizers/custom_graph_optimizer_registry.cc:113] Plugin optimizer for device_type GPU is enabled.\n"
     ]
    }
   ],
   "source": [
    "currentModel = lstm()\n",
    "history = currentModel.fit(x_train,y_train,\n",
    "    epochs=25,\n",
    "    batch_size=32,\n",
    "    validation_data=(x_test,y_test),\n",
    "    verbose=1,\n",
    ")\n",
    "currentModel.save('lstm_model')\n",
    "predictionOutput = currentModel.predict(x_test)"
   ]
  },
  {
   "cell_type": "code",
   "execution_count": 39,
   "metadata": {},
   "outputs": [
    {
     "data": {
      "text/plain": [
       "array([[-0.2835846 , -0.27398375, -0.26962978, ..., -0.35266548,\n",
       "        -0.3405497 , -0.33039683],\n",
       "       [-0.24376428, -0.2421701 , -0.24875167, ..., -0.32631558,\n",
       "        -0.30871186, -0.2970799 ],\n",
       "       [-0.24213253, -0.24978435, -0.26670295, ..., -0.30097494,\n",
       "        -0.2822932 , -0.27324647],\n",
       "       ...,\n",
       "       [-0.5438957 , -0.5499939 , -0.5594866 , ..., -0.5108126 ,\n",
       "        -0.51344466, -0.5197284 ],\n",
       "       [-0.54744124, -0.55277187, -0.56094325, ..., -0.5066196 ,\n",
       "        -0.5109992 , -0.5183333 ],\n",
       "       [-0.5183975 , -0.52392334, -0.53351367, ..., -0.5011163 ,\n",
       "        -0.50383794, -0.5094687 ]], dtype=float32)"
      ]
     },
     "execution_count": 39,
     "metadata": {},
     "output_type": "execute_result"
    }
   ],
   "source": [
    "predictionOutput"
   ]
  },
  {
   "cell_type": "code",
   "execution_count": 40,
   "metadata": {},
   "outputs": [
    {
     "data": {
      "image/png": "[encoded data removed]",
      "text/plain": [
       "<Figure size 432x288 with 1 Axes>"
      ]
     },
     "metadata": {
      "needs_background": "light"
     },
     "output_type": "display_data"
    }
   ],
   "source": [
    "plotModelLoss(history)"
   ]
  },
  {
   "cell_type": "code",
   "execution_count": 41,
   "metadata": {},
   "outputs": [
    {
     "ename": "TypeError",
     "evalue": "evalution_losses() missing 2 required positional arguments: 'y_true' and 'y_pred'",
     "output_type": "error",
     "traceback": [
      "\u001b[0;31m---------------------------------------------------------------------------\u001b[0m",
      "\u001b[0;31mTypeError\u001b[0m                                 Traceback (most recent call last)",
      "\u001b[1;32m/Users/fidelisakilan/development/python-projects/final yr project/WPF-copy.ipynb Cell 17'\u001b[0m in \u001b[0;36m<cell line: 1>\u001b[0;34m()\u001b[0m\n\u001b[0;32m----> <a href='vscode-notebook-cell:/Users/fidelisakilan/development/python-projects/final%20yr%20project/WPF-copy.ipynb#ch0000036?line=0'>1</a>\u001b[0m evalution_losses()\n",
      "\u001b[0;31mTypeError\u001b[0m: evalution_losses() missing 2 required positional arguments: 'y_true' and 'y_pred'"
     ]
    }
   ],
   "source": [
    "evalution_losses()"
   ]
  }
 ],
 "metadata": {
  "deepnote": {},
  "deepnote_execution_queue": [],
  "deepnote_notebook_id": "88a99376-a207-4737-960a-d921204c4164",
  "interpreter": {
   "hash": "4bd624a0593993fe43ac4046b27b898fb2ef75c21c08f81e89e64ea0f51df676"
  },
  "kernelspec": {
   "display_name": "Python 3.9.12 ('tensorflow')",
   "language": "python",
   "name": "python3"
  },
  "language_info": {
   "codemirror_mode": {
    "name": "ipython",
    "version": 3
   },
   "file_extension": ".py",
   "mimetype": "text/x-python",
   "name": "python",
   "nbconvert_exporter": "python",
   "pygments_lexer": "ipython3",
   "version": "3.9.12"
  },
  "orig_nbformat": 4
 },
 "nbformat": 4,
 "nbformat_minor": 2
}
