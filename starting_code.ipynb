{
 "cells": [
  {
   "cell_type": "code",
   "execution_count": 1,
   "metadata": {},
   "outputs": [],
   "source": [
    "import os\n",
    "import datetime\n",
    "\n",
    "import IPython\n",
    "import IPython.display\n",
    "import matplotlib as mpl\n",
    "import matplotlib.pyplot as plt\n",
    "import numpy as np\n",
    "import pandas as pd\n",
    "import seaborn as sns\n",
    "import tensorflow as tf\n",
    "\n",
    "mpl.rcParams['figure.figsize'] = (8, 6)\n",
    "mpl.rcParams['axes.grid'] = False"
   ]
  },
  {
   "cell_type": "code",
   "execution_count": null,
   "metadata": {},
   "outputs": [],
   "source": [
    "# global variables\n",
    "test_train_split = 75\n",
    "target_col = 'WindSpeed 50'"
   ]
  },
  {
   "cell_type": "code",
   "execution_count": null,
   "metadata": {},
   "outputs": [],
   "source": [
    "def custom_date_parser(x): return datetime.strptime(x, \"%Y %m %d %H\")\n",
    "\n",
    "def getDataSet():\n",
    "    dataset = pd.read_csv('MUP_dataset.csv', header=12, parse_dates=[\n",
    "                        ['YEAR', 'MO', 'DY', 'HR']], date_parser=custom_date_parser, index_col=0)\n",
    "    dataset.index.name = 'datetime'\n",
    "    dataset.columns = ['Pressure', 'WindSpeed 50', 'WindSpeed 10', 'Temperature']\n",
    "    print(dataset.head(5))\n",
    "    return dataset"
   ]
  },
  {
   "cell_type": "code",
   "execution_count": null,
   "metadata": {},
   "outputs": [],
   "source": [
    "def correlationPlot(df):\n",
    "    corr=df.corr()\n",
    "    corr.style.background_gradient(cmap='coolwarm')"
   ]
  },
  {
   "cell_type": "code",
   "execution_count": null,
   "metadata": {},
   "outputs": [],
   "source": [
    "def monthWisePlot(df,target_col):\n",
    "    fig, axs = plt.subplots(figsize=(12, 4))\n",
    "    df.groupby(df.index.month)[\n",
    "        'WindSpeed 50'].mean().plot(kind='bar', rot=0, ax=axs)\n",
    "    plt.xlabel(\"Months\")\n",
    "    plt.ylabel(target_col)\n",
    "    plt.show()"
   ]
  }
 ],
 "metadata": {
  "interpreter": {
   "hash": "4bd624a0593993fe43ac4046b27b898fb2ef75c21c08f81e89e64ea0f51df676"
  },
  "kernelspec": {
   "display_name": "Python 3.9.12 ('tensorflow')",
   "language": "python",
   "name": "python3"
  },
  "language_info": {
   "codemirror_mode": {
    "name": "ipython",
    "version": 3
   },
   "file_extension": ".py",
   "mimetype": "text/x-python",
   "name": "python",
   "nbconvert_exporter": "python",
   "pygments_lexer": "ipython3",
   "version": "3.9.12"
  },
  "orig_nbformat": 4
 },
 "nbformat": 4,
 "nbformat_minor": 2
}
